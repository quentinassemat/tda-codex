{
 "cells": [
  {
   "cell_type": "code",
   "execution_count": null,
   "id": "b239b444",
   "metadata": {},
   "outputs": [],
   "source": [
    "import pandas as pd\n",
    "import numpy as np\n",
    "import matplotlib.pyplot as plt\n",
    "import seaborn as sns\n",
    "from voronoi import draw_voronoi_scatter # code from Nolan lab"
   ]
  },
  {
   "cell_type": "markdown",
   "id": "31d498f9",
   "metadata": {},
   "source": [
    "# 1. Patient info\n",
    "* Group 1: Crohn's like reaction (CLR). Better survival than group 2.\n",
    "* Group 2: diffuse inflammatory infiltration (DII). \n",
    "* total of 35 patients\n",
    "* Each patient provided 4 tissue samples, resulting a total count of 140. \n",
    "    * In the TMA (tissue microarray), the four samples provided by each patient is located via `TMA spot/region`.\n",
    "    * Note that in each TMA spot/region, there are two cores, which, in a later dataset, is identified by `A` and `B`.\n",
    "    * To understand where each tissue sample came from, look at \"Multi-tumor_TMA_composition.xlsx\""
   ]
  },
  {
   "cell_type": "code",
   "execution_count": null,
   "id": "5d8e470e",
   "metadata": {},
   "outputs": [],
   "source": [
    "# load data\n",
    "df_patient = pd.read_excel(\"CRC_TMAs_patient_annotations.xlsx\")\n",
    "\n",
    "# only keep patient info\n",
    "df_patient = df_patient[:35]"
   ]
  },
  {
   "cell_type": "code",
   "execution_count": null,
   "id": "fe37a5ea",
   "metadata": {},
   "outputs": [],
   "source": [
    "df_patient.head()"
   ]
  },
  {
   "cell_type": "code",
   "execution_count": null,
   "id": "e50bd451",
   "metadata": {},
   "outputs": [],
   "source": [
    "df_patient[\"Group\"].value_counts()"
   ]
  },
  {
   "cell_type": "code",
   "execution_count": null,
   "id": "1f7da3d1",
   "metadata": {},
   "outputs": [],
   "source": [
    "# load region info\n",
    "df_TMA = pd.read_excel(\"Multi-tumor_TMA_composition.xlsx\")"
   ]
  },
  {
   "cell_type": "code",
   "execution_count": null,
   "id": "4f791c86",
   "metadata": {
    "scrolled": true
   },
   "outputs": [],
   "source": [
    "df_TMA"
   ]
  },
  {
   "cell_type": "markdown",
   "id": "5b8d6ed6",
   "metadata": {},
   "source": [
    "* Note that `df_TMA` has 70 rows, while our dataset consists of 140 samples. This is because each region (`reg001`) provides two samples. In the following section, dataframe `df_clusters` has a column `File Name`, which specifies the `A` and `B`. One should simply think of `reg001_A`, `reg001_B`, ... as indicating the location on the microarray."
   ]
  },
  {
   "cell_type": "markdown",
   "id": "c0891ffb",
   "metadata": {},
   "source": [
    "data before extracting cell types and cell neighborhoods"
   ]
  },
  {
   "cell_type": "code",
   "execution_count": null,
   "id": "537d1417",
   "metadata": {},
   "outputs": [],
   "source": [
    "df_orig = pd.read_csv('CRC_clusters_neighborhoods_markers.csv')"
   ]
  },
  {
   "cell_type": "markdown",
   "id": "5f94386f",
   "metadata": {},
   "source": [
    "# 2. data1: cell types\n",
    "\n",
    "* relevant columns\n",
    "    * `groups`: 1 or 2\n",
    "        * 1: Crohn's like reaction (CLR). Better survival than group 2.\n",
    "        * 2: diffuse inflammatory infiltration (DII). \n",
    "    * `patients`: patient number. Between 1 and 35\n",
    "    * `X:X`: x-coordinate of cell\n",
    "    * `Y:Y`: y-coordinate of cell\n",
    "    * `Region`: location on the microarray. `Region` column and the file `Multi-tumor_TMA_composition.xlsx`\n",
    "    * `File Name:`: has format `reg0XY_A/B`.\n",
    "        * `reg0XY`: `0XY` ranges from `001` to `069`. Indicates the location in the microarray. See supplementary info Data S2.\n",
    "        * `A/B`: Two cores are selected from a tissue sample. So one sample is named `_A` and the other is named `_B`.\n",
    "        * In total, there should be 4 values of `\n",
    "    * 28 Columns containing cell types: `B cells`, `CD11b+ monocytes`, `CD11b+CD68+ macrophages`, `CD11c+ DCs`, `CD163+ macrophages`,`CD3+ T cells`,`CD4+ T cells`,`CD4+ T cells CD45RO+`,`CD4+ T cells GATA3+`,`CD68+ macrophages`,`CD68+ macrophages GzmB+`,`CD68+CD163+ macrophages`,`CD8+ T cells`,`NK cells`,`Tregs`,`adipocytes`,`dirt`,`granulocytes`, `immune cells`,`immune cells / vasculature`,`lymphatics`,`nerves`,`plasma cells`,`smooth muscle`,`stroma`, `tumor cells`,`tumor cells / immune cells`,`undefined`,`vasculature`\n",
    "        * Each column is 0 or 1.\n",
    "    "
   ]
  },
  {
   "cell_type": "code",
   "execution_count": null,
   "id": "62b890b4",
   "metadata": {},
   "outputs": [],
   "source": [
    "df_cells = pd.read_csv('CRC_celltypes.csv', index_col = None)"
   ]
  },
  {
   "cell_type": "code",
   "execution_count": null,
   "id": "9ceb3d7a",
   "metadata": {},
   "outputs": [],
   "source": [
    "df_cells.head()"
   ]
  },
  {
   "cell_type": "markdown",
   "id": "17c735a3",
   "metadata": {},
   "source": [
    "Plot individual cell type "
   ]
  },
  {
   "cell_type": "code",
   "execution_count": null,
   "id": "42267c0d",
   "metadata": {},
   "outputs": [],
   "source": [
    "# select patient, print relevant file names\n",
    "patient = 1\n",
    "df_cells[df_cells[\"patients\"] == patient][\"File Name\"].value_counts()"
   ]
  },
  {
   "cell_type": "code",
   "execution_count": null,
   "id": "5ea996b0",
   "metadata": {},
   "outputs": [],
   "source": [
    "# select patient\n",
    "cell_type = \"tumor cells\"\n",
    "file_name = \"reg002_B\" # Select one of the file names printed above                     \n",
    "\n",
    "# extract relevant rows\n",
    "cells_patient = df_cells[(df_cells[\"patients\"] == patient) \n",
    "                         & (df_cells[cell_type] == 1)\n",
    "                         & (df_cells[\"File Name\"] == file_name)]\n",
    "\n",
    "# get (x,y) coordinates\n",
    "x = cells_patient[\"X:X\"].values\n",
    "y = cells_patient[\"Y:Y\"].values\n",
    "\n",
    "# plot\n",
    "plt.scatter(x, y, label = cell_type)\n",
    "plt.legend()\n",
    "plt.show()"
   ]
  },
  {
   "cell_type": "markdown",
   "id": "a4f7299a",
   "metadata": {},
   "source": [
    "Plot all cells"
   ]
  },
  {
   "cell_type": "code",
   "execution_count": null,
   "id": "941a866d",
   "metadata": {
    "scrolled": true
   },
   "outputs": [],
   "source": [
    "cell_columns = ['B cells', 'CD11b+ monocytes', 'CD11b+CD68+ macrophages', 'CD11c+ DCs', \n",
    "                'CD163+ macrophages','CD3+ T cells','CD4+ T cells','CD4+ T cells CD45RO+',\n",
    "                'CD4+ T cells GATA3+','CD68+ macrophages','CD68+ macrophages GzmB+','CD68+CD163+ macrophages',\n",
    "                'CD8+ T cells','NK cells','Tregs','adipocytes','dirt','granulocytes', 'immune cells',\n",
    "                'immune cells / vasculature','lymphatics','nerves','plasma cells','smooth muscle',\n",
    "                'stroma', 'tumor cells','tumor cells / immune cells','undefined','vasculature']\n",
    "fig, ax = plt.subplots()\n",
    "\n",
    "for ct in cell_columns:\n",
    "    # extract relevant rows\n",
    "    df_ct = df_cells[(df_cells[\"patients\"] == patient) \n",
    "                         & (df_cells[ct] == 1)\n",
    "                         & (df_cells[\"File Name\"] == file_name)]\n",
    "    \n",
    "    # get (x,y) coordinates\n",
    "    x = df_ct[\"X:X\"].values\n",
    "    y = df_ct[\"Y:Y\"].values\n",
    "    \n",
    "    ax.scatter(x,y, label = ct)\n",
    "    \n",
    "    # Add a legend\n",
    "    pos = ax.get_position()\n",
    "    ax.set_position([pos.x0, pos.y0, pos.width * 1, pos.height])\n",
    "    ax.legend(loc='center right', bbox_to_anchor=(1.6, 0.5))\n",
    "\n",
    "plt.show()"
   ]
  },
  {
   "cell_type": "markdown",
   "id": "8f958f83",
   "metadata": {},
   "source": [
    "# 3. data2: Cell neighborhood\n",
    "* The cell neighborhoods are extracted by looking at a cell neighborhood (of specific size) and computing the density of various cell types. \n",
    "* Relevant columns: `neighborhood10`\n",
    "* The `10` indicates that the cell neighborhood extraction algorithm considered 10 neighboring cells\n",
    "* The original data (before cell neighborhood extraction) comes with two columns (`neighborhood number final` and `neighborhood name`), which seems to encode neighborhood info extracted from some other preprocessing step. \n",
    "* In particular, `value_counts()` of `neighborhood number final` and `neighborhood name` should match up. They do not coincide with `neighborhood10`\n",
    "* Neighborhood names:\n",
    "    * 0: other\n",
    "    * 1: T cell enriched\n",
    "    * 2: Bulk tumor\n",
    "    * 3: Immune-infiltrated stroma\n",
    "    * 4: Macrophage enriched\n",
    "    * 5: Follicle\n",
    "    * 6: Tumor boundary\n",
    "    * 7: Vascularized smooth muscle\n",
    "    * 8: Smooth muscle\n",
    "    * 9: Granulocyte enriched"
   ]
  },
  {
   "cell_type": "code",
   "execution_count": null,
   "id": "b74fd080",
   "metadata": {},
   "outputs": [],
   "source": [
    "# fix color palette\n",
    "palette = {0:\"#023ffe\", \n",
    "           1:\"#fe7d01\", \n",
    "           2:\"#1bc939\", \n",
    "           3:\"#e7010a\", \n",
    "           4:\"#8a2be2\", \n",
    "           5:\"#9f4801\", \n",
    "           6:\"#f04dc0\", \n",
    "           7:\"#a2a3a2\", \n",
    "           8:\"#ffc402\", \n",
    "           9:\"#00d6ff\"}"
   ]
  },
  {
   "cell_type": "markdown",
   "id": "a6771893",
   "metadata": {},
   "source": [
    "Plot for one patient"
   ]
  },
  {
   "cell_type": "code",
   "execution_count": null,
   "id": "33ab3a52",
   "metadata": {},
   "outputs": [],
   "source": [
    "# select patient\n",
    "patient = 1\n",
    "cell_type = \"tumor cells\"\n",
    "file_name = \"reg002_B\"\n",
    "\n",
    "# select data\n",
    "data = df_cells[(df_cells[\"patients\"] == patient) & (df_cells[\"File Name\"] == file_name)]\n",
    "\n",
    "# plot\n",
    "sns.lmplot(data = data, x = 'X:X', y=\"Y:Y\", hue = \"neighborhood10\", palette = palette, fit_reg = False)"
   ]
  },
  {
   "cell_type": "code",
   "execution_count": null,
   "id": "97805dc5",
   "metadata": {},
   "outputs": [],
   "source": [
    "df_cells[df_cells[\"groups\"] == 1].groupby(by = [\"patients\"]).sum()"
   ]
  },
  {
   "cell_type": "code",
   "execution_count": null,
   "id": "ebffa503",
   "metadata": {
    "scrolled": true
   },
   "outputs": [],
   "source": [
    "# plot for all group 1 patients\n",
    "sns.lmplot(data = df_cells[df_cells['groups']==1],x = 'X:X',y='Y:Y',hue = 'neighborhood10',palette = palette,height = 8,col = \"File Name\",col_wrap = 10,fit_reg = False)\n",
    "\n"
   ]
  },
  {
   "cell_type": "markdown",
   "id": "4e201b82",
   "metadata": {},
   "source": [
    "Note the above code generates 68 images\n",
    "* 17 patients in group 1\n",
    "* 2 regions per patient\n",
    "* 2 cores per patient\n",
    "* total: 17 * 4 = 68"
   ]
  },
  {
   "cell_type": "code",
   "execution_count": null,
   "id": "2f62c2c4",
   "metadata": {},
   "outputs": [],
   "source": [
    "# plot for all group 2 patients\n",
    "sns.lmplot(data = df_cells[df_cells['groups']==2],x = 'X:X',y='Y:Y',hue = 'neighborhood10',palette = palette,height = 8,col = \"File Name\",col_wrap = 10,fit_reg = False)\n",
    "\n"
   ]
  },
  {
   "cell_type": "markdown",
   "id": "a9a10767",
   "metadata": {},
   "source": [
    "Note the above code generates 72 images\n",
    "* 18 patients in group 1\n",
    "* 2 regions per patient\n",
    "* 2 cores per patient\n",
    "* total: 18 * 4 = 72"
   ]
  },
  {
   "cell_type": "markdown",
   "id": "1885171c",
   "metadata": {},
   "source": [
    "# 4. Voronoi diagram"
   ]
  },
  {
   "cell_type": "code",
   "execution_count": null,
   "id": "afd48c4f",
   "metadata": {},
   "outputs": [],
   "source": [
    "spot = df_cells[df_cells['File Name']=='reg059_A']\n",
    "\n",
    "_ = draw_voronoi_scatter(spot,[],)"
   ]
  },
  {
   "cell_type": "code",
   "execution_count": null,
   "id": "62bdff3c",
   "metadata": {},
   "outputs": [],
   "source": []
  }
 ],
 "metadata": {
  "kernelspec": {
   "display_name": "Python [conda env:CODEX] *",
   "language": "python",
   "name": "conda-env-CODEX-py"
  },
  "language_info": {
   "codemirror_mode": {
    "name": "ipython",
    "version": 3
   },
   "file_extension": ".py",
   "mimetype": "text/x-python",
   "name": "python",
   "nbconvert_exporter": "python",
   "pygments_lexer": "ipython3",
   "version": "3.10.4"
  }
 },
 "nbformat": 4,
 "nbformat_minor": 5
}
