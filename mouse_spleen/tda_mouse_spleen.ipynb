{
 "cells": [
  {
   "cell_type": "code",
   "execution_count": 87,
   "metadata": {},
   "outputs": [],
   "source": [
    "# Various Imports\n",
    "\n",
    "# Data science\n",
    "import numpy as np\n",
    "import pandas as pd\n",
    "from sklearn import datasets\n",
    "from sklearn.linear_model import LogisticRegression\n",
    "from sklearn.model_selection import train_test_split\n",
    "\n",
    "# Plot\n",
    "import matplotlib.pyplot as plt\n",
    "import seaborn as sns\n",
    "\n",
    "# TDA\n",
    "from ripser import Rips\n",
    "from persim import PersImage\n",
    "from persim import PersistenceImager\n",
    "\n",
    "import warnings\n",
    "warnings.filterwarnings('ignore')"
   ]
  },
  {
   "attachments": {},
   "cell_type": "markdown",
   "metadata": {},
   "source": [
    "# Load data\n",
    "\n",
    "* relevant columns\n",
    "    * `Imaging phenotype (cell type)`: ID of cell type. See dataframe `df_mmc` f or what each ID means\n",
    "    * `X.X`: x-coordinate of cell\n",
    "    * `Y.Y`: y-coordinate of cell\n",
    "    * `sample_Xtile_Ytile`: type of sample (BALB for normal, MRL for diseased) and tile numbers"
   ]
  },
  {
   "cell_type": "code",
   "execution_count": 88,
   "metadata": {},
   "outputs": [],
   "source": [
    "df_cells = pd.read_csv('mouse_spleen_data/MRLdatasetexpression.csv', index_col = None)\n",
    "df_mmc = pd.read_excel(\"mouse_spleen_data/mmc2.xlsx\")"
   ]
  },
  {
   "cell_type": "code",
   "execution_count": 89,
   "metadata": {},
   "outputs": [
    {
     "data": {
      "text/html": [
       "<div>\n",
       "<style scoped>\n",
       "    .dataframe tbody tr th:only-of-type {\n",
       "        vertical-align: middle;\n",
       "    }\n",
       "\n",
       "    .dataframe tbody tr th {\n",
       "        vertical-align: top;\n",
       "    }\n",
       "\n",
       "    .dataframe thead th {\n",
       "        text-align: right;\n",
       "    }\n",
       "</style>\n",
       "<table border=\"1\" class=\"dataframe\">\n",
       "  <thead>\n",
       "    <tr style=\"text-align: right;\">\n",
       "      <th></th>\n",
       "      <th>Imaging phenotype cluster ID</th>\n",
       "      <th>CD45</th>\n",
       "      <th>Ly6C</th>\n",
       "      <th>TCR</th>\n",
       "      <th>Ly6G</th>\n",
       "      <th>CD19</th>\n",
       "      <th>CD169</th>\n",
       "      <th>CD106</th>\n",
       "      <th>CD3</th>\n",
       "      <th>CD1632</th>\n",
       "      <th>...</th>\n",
       "      <th>CD44</th>\n",
       "      <th>NKp46</th>\n",
       "      <th>X.X</th>\n",
       "      <th>Y.Y</th>\n",
       "      <th>Z.Z</th>\n",
       "      <th>MHCII</th>\n",
       "      <th>blank_Cy3_cyc15</th>\n",
       "      <th>blank_Cy5_cyc15</th>\n",
       "      <th>sample_Xtile_Ytile</th>\n",
       "      <th>niche cluster ID</th>\n",
       "    </tr>\n",
       "  </thead>\n",
       "  <tbody>\n",
       "    <tr>\n",
       "      <th>0</th>\n",
       "      <td>9600</td>\n",
       "      <td>1577.675415</td>\n",
       "      <td>-154.301758</td>\n",
       "      <td>130.692184</td>\n",
       "      <td>-4.168493</td>\n",
       "      <td>560.691345</td>\n",
       "      <td>-504.231476</td>\n",
       "      <td>854.670105</td>\n",
       "      <td>-631.294189</td>\n",
       "      <td>385.935242</td>\n",
       "      <td>...</td>\n",
       "      <td>422.408691</td>\n",
       "      <td>515.130066</td>\n",
       "      <td>10</td>\n",
       "      <td>70</td>\n",
       "      <td>13</td>\n",
       "      <td>6712.812988</td>\n",
       "      <td>1665.967896</td>\n",
       "      <td>398.348389</td>\n",
       "      <td>BALBc-3_X05_Y03</td>\n",
       "      <td>32.0</td>\n",
       "    </tr>\n",
       "    <tr>\n",
       "      <th>1</th>\n",
       "      <td>9600</td>\n",
       "      <td>1017.838440</td>\n",
       "      <td>-93.069397</td>\n",
       "      <td>144.076584</td>\n",
       "      <td>40.010998</td>\n",
       "      <td>885.595520</td>\n",
       "      <td>-391.357544</td>\n",
       "      <td>62.764454</td>\n",
       "      <td>-474.201172</td>\n",
       "      <td>-469.634583</td>\n",
       "      <td>...</td>\n",
       "      <td>448.701660</td>\n",
       "      <td>171.880310</td>\n",
       "      <td>1000</td>\n",
       "      <td>294</td>\n",
       "      <td>12</td>\n",
       "      <td>2024.678711</td>\n",
       "      <td>1287.959229</td>\n",
       "      <td>421.991425</td>\n",
       "      <td>BALBc-3_X01_Y02</td>\n",
       "      <td>99.0</td>\n",
       "    </tr>\n",
       "    <tr>\n",
       "      <th>2</th>\n",
       "      <td>9600</td>\n",
       "      <td>5978.459961</td>\n",
       "      <td>-330.099365</td>\n",
       "      <td>139.631744</td>\n",
       "      <td>-82.840302</td>\n",
       "      <td>1747.897583</td>\n",
       "      <td>-395.508820</td>\n",
       "      <td>954.326782</td>\n",
       "      <td>-1026.204468</td>\n",
       "      <td>3744.718262</td>\n",
       "      <td>...</td>\n",
       "      <td>2229.804443</td>\n",
       "      <td>512.220764</td>\n",
       "      <td>1003</td>\n",
       "      <td>107</td>\n",
       "      <td>8</td>\n",
       "      <td>8647.193359</td>\n",
       "      <td>2817.173828</td>\n",
       "      <td>709.545105</td>\n",
       "      <td>BALBc-2_X05_Y04</td>\n",
       "      <td>74.0</td>\n",
       "    </tr>\n",
       "    <tr>\n",
       "      <th>3</th>\n",
       "      <td>9600</td>\n",
       "      <td>6119.109375</td>\n",
       "      <td>-54.384808</td>\n",
       "      <td>-768.871704</td>\n",
       "      <td>25.625927</td>\n",
       "      <td>1065.311890</td>\n",
       "      <td>-485.535431</td>\n",
       "      <td>538.404175</td>\n",
       "      <td>-611.836426</td>\n",
       "      <td>865.842590</td>\n",
       "      <td>...</td>\n",
       "      <td>665.720459</td>\n",
       "      <td>351.108246</td>\n",
       "      <td>1003</td>\n",
       "      <td>113</td>\n",
       "      <td>13</td>\n",
       "      <td>4838.463379</td>\n",
       "      <td>1646.660278</td>\n",
       "      <td>408.523590</td>\n",
       "      <td>BALBc-2_X03_Y04</td>\n",
       "      <td>98.0</td>\n",
       "    </tr>\n",
       "    <tr>\n",
       "      <th>4</th>\n",
       "      <td>9600</td>\n",
       "      <td>6272.474609</td>\n",
       "      <td>-235.512405</td>\n",
       "      <td>74.058075</td>\n",
       "      <td>-101.729919</td>\n",
       "      <td>1186.295044</td>\n",
       "      <td>-782.744995</td>\n",
       "      <td>1261.625366</td>\n",
       "      <td>-915.565552</td>\n",
       "      <td>1361.536011</td>\n",
       "      <td>...</td>\n",
       "      <td>2065.742676</td>\n",
       "      <td>259.003235</td>\n",
       "      <td>1003</td>\n",
       "      <td>148</td>\n",
       "      <td>9</td>\n",
       "      <td>5092.891602</td>\n",
       "      <td>2161.109131</td>\n",
       "      <td>713.416199</td>\n",
       "      <td>BALBc-2_X02_Y01</td>\n",
       "      <td>71.0</td>\n",
       "    </tr>\n",
       "  </tbody>\n",
       "</table>\n",
       "<p>5 rows × 38 columns</p>\n",
       "</div>"
      ],
      "text/plain": [
       "   Imaging phenotype cluster ID         CD45        Ly6C         TCR  \\\n",
       "0                          9600  1577.675415 -154.301758  130.692184   \n",
       "1                          9600  1017.838440  -93.069397  144.076584   \n",
       "2                          9600  5978.459961 -330.099365  139.631744   \n",
       "3                          9600  6119.109375  -54.384808 -768.871704   \n",
       "4                          9600  6272.474609 -235.512405   74.058075   \n",
       "\n",
       "         Ly6G         CD19       CD169        CD106          CD3       CD1632  \\\n",
       "0   -4.168493   560.691345 -504.231476   854.670105  -631.294189   385.935242   \n",
       "1   40.010998   885.595520 -391.357544    62.764454  -474.201172  -469.634583   \n",
       "2  -82.840302  1747.897583 -395.508820   954.326782 -1026.204468  3744.718262   \n",
       "3   25.625927  1065.311890 -485.535431   538.404175  -611.836426   865.842590   \n",
       "4 -101.729919  1186.295044 -782.744995  1261.625366  -915.565552  1361.536011   \n",
       "\n",
       "   ...         CD44       NKp46   X.X  Y.Y  Z.Z        MHCII  blank_Cy3_cyc15  \\\n",
       "0  ...   422.408691  515.130066    10   70   13  6712.812988      1665.967896   \n",
       "1  ...   448.701660  171.880310  1000  294   12  2024.678711      1287.959229   \n",
       "2  ...  2229.804443  512.220764  1003  107    8  8647.193359      2817.173828   \n",
       "3  ...   665.720459  351.108246  1003  113   13  4838.463379      1646.660278   \n",
       "4  ...  2065.742676  259.003235  1003  148    9  5092.891602      2161.109131   \n",
       "\n",
       "   blank_Cy5_cyc15  sample_Xtile_Ytile  niche cluster ID  \n",
       "0       398.348389     BALBc-3_X05_Y03              32.0  \n",
       "1       421.991425     BALBc-3_X01_Y02              99.0  \n",
       "2       709.545105     BALBc-2_X05_Y04              74.0  \n",
       "3       408.523590     BALBc-2_X03_Y04              98.0  \n",
       "4       713.416199     BALBc-2_X02_Y01              71.0  \n",
       "\n",
       "[5 rows x 38 columns]"
      ]
     },
     "execution_count": 89,
     "metadata": {},
     "output_type": "execute_result"
    }
   ],
   "source": [
    "df_cells.head()"
   ]
  },
  {
   "cell_type": "code",
   "execution_count": 90,
   "metadata": {},
   "outputs": [
    {
     "data": {
      "text/html": [
       "<div>\n",
       "<style scoped>\n",
       "    .dataframe tbody tr th:only-of-type {\n",
       "        vertical-align: middle;\n",
       "    }\n",
       "\n",
       "    .dataframe tbody tr th {\n",
       "        vertical-align: top;\n",
       "    }\n",
       "\n",
       "    .dataframe thead th {\n",
       "        text-align: right;\n",
       "    }\n",
       "</style>\n",
       "<table border=\"1\" class=\"dataframe\">\n",
       "  <thead>\n",
       "    <tr style=\"text-align: right;\">\n",
       "      <th></th>\n",
       "      <th>X-shift cluster ID</th>\n",
       "      <th>Imaging phenotype (cell type)</th>\n",
       "    </tr>\n",
       "  </thead>\n",
       "  <tbody>\n",
       "    <tr>\n",
       "      <th>0</th>\n",
       "      <td>9626</td>\n",
       "      <td>plasma cells</td>\n",
       "    </tr>\n",
       "    <tr>\n",
       "      <th>1</th>\n",
       "      <td>9593</td>\n",
       "      <td>plasma cells</td>\n",
       "    </tr>\n",
       "    <tr>\n",
       "      <th>2</th>\n",
       "      <td>9641</td>\n",
       "      <td>noid</td>\n",
       "    </tr>\n",
       "    <tr>\n",
       "      <th>3</th>\n",
       "      <td>9644</td>\n",
       "      <td>noid</td>\n",
       "    </tr>\n",
       "    <tr>\n",
       "      <th>4</th>\n",
       "      <td>9605</td>\n",
       "      <td>noid</td>\n",
       "    </tr>\n",
       "  </tbody>\n",
       "</table>\n",
       "</div>"
      ],
      "text/plain": [
       "   X-shift cluster ID Imaging phenotype (cell type)\n",
       "0                9626                  plasma cells\n",
       "1                9593                  plasma cells\n",
       "2                9641                          noid\n",
       "3                9644                          noid\n",
       "4                9605                          noid"
      ]
     },
     "execution_count": 90,
     "metadata": {},
     "output_type": "execute_result"
    }
   ],
   "source": [
    "df_mmc.head()"
   ]
  },
  {
   "attachments": {},
   "cell_type": "markdown",
   "metadata": {},
   "source": [
    "# Computation of the persistence diagrams\n",
    "\n",
    "First we try to compute persistence diagrams for stiched tiles. It seems to be computationaly expensive but it seems faisable with a slightly better ram than mine. So we stick to tiled data."
   ]
  },
  {
   "cell_type": "code",
   "execution_count": 91,
   "metadata": {},
   "outputs": [
    {
     "name": "stdout",
     "output_type": "stream",
     "text": [
      "[9626 9593 9615 9602 9604 9620 9609 9589 9613 9618 9607 9628 9592 9587\n",
      " 9597 9596 9595 9638 9611 9637 9643 9619 9632 9629 9590 9635 9639 9608\n",
      " 9617 9614 9591 9600 9606 9640]\n",
      "['MRL-5', 'BALBc-2', 'MRL-8', 'MRL-6', 'BALBc-3', 'BALBc-1', 'MRL-7', 'MRL-9', 'MRL-4']\n"
     ]
    }
   ],
   "source": [
    "# Usefull cell types / Sample names\n",
    "\n",
    "# Each cell types (remove useless cell type)\n",
    "IDs = df_mmc[(df_mmc[\"Imaging phenotype (cell type)\"] != \"dirt\") & (df_mmc[\"Imaging phenotype (cell type)\"] != \"noid\") & (df_mmc[\"Imaging phenotype (cell type)\"] != \"capsule\")][\"X-shift cluster ID\"].values\n",
    "print(IDs)\n",
    "# IDs reduction to have manageable computation\n",
    "# IDs = IDs[0:18]\n",
    "\n",
    "# Each sample names. MRL are sample from auto-immune disease. BALB are sample from wildtype\n",
    "indices = df_cells.sample_Xtile_Ytile.value_counts().index.tolist()\n",
    "SNs = list(set([item.split(\"_\")[0] for item in indices]))\n",
    "print(SNs)\n",
    "# SNs reduction to have manageable computation\n",
    "# SNs = ['BALBc-3']"
   ]
  },
  {
   "attachments": {},
   "cell_type": "markdown",
   "metadata": {},
   "source": [
    "We compute for not stiched tiles. Even if it seems we might miss some \"holes\", it is reasonable to think that the information that are interesting are at a very tiny level. "
   ]
  },
  {
   "cell_type": "code",
   "execution_count": 92,
   "metadata": {},
   "outputs": [
    {
     "name": "stdout",
     "output_type": "stream",
     "text": [
      "Rips(maxdim=1, thresh=inf, coeff=2, do_cocycles=False, n_perm = None, verbose=True)\n"
     ]
    }
   ],
   "source": [
    "# To Compute Persistence Diagram\n",
    "rips = Rips(maxdim=1)\n",
    "\n",
    "# To store persistence diagram\n",
    "diagrams = {}\n",
    "\n",
    "index = 1\n",
    "for SN in SNs: # each sample\n",
    "    for ID in IDs: # each cell type\n",
    "        # get (x,y) coordinates\n",
    "        # tile stiching\n",
    "        cells = df_cells[(df_cells[\"Imaging phenotype cluster ID\"] == ID) & (df_cells[\"sample_Xtile_Ytile\"].str.split(pat=\"_\").str[0] == SN)]\n",
    "        for i in range(1, 8):\n",
    "            for j in range(1, 10):\n",
    "                # xy_cells = df_cells[(df_cells[\"sample_Xtile_Ytile\"].str.split(pat=\"_\").str[0] == SN) & (df_cells[\"Imaging phenotype cluster ID\"] == ID) & (df_cells[\"sample_Xtile_Ytile\"].str.split(pat=\"_\").str[1] == \"X0\"+str(i)) & (df_cells[\"sample_Xtile_Ytile\"].str.split(pat=\"_\").str[2] == \"Y0\"+str(j))]\n",
    "                xy_cells = cells[(cells[\"sample_Xtile_Ytile\"].str.split(pat=\"_\").str[1] == \"X0\"+str(i)) & (cells[\"sample_Xtile_Ytile\"].str.split(pat=\"_\").str[2] == \"Y0\"+str(j))]\n",
    "                if (not xy_cells.empty):\n",
    "                    # Computation of Persistence Diagram (For each sample and each cell type)\n",
    "                    data = np.array((xy_cells[\"X.X\"].values,xy_cells[\"Y.Y\"].values)).T\n",
    "                    diagram = rips.fit_transform(data)\n",
    "                    diagrams[(SN, ID, i, j)] = diagram\n",
    "                else:\n",
    "                    diagrams[(SN, ID, i, j)] = None\n"
   ]
  },
  {
   "cell_type": "code",
   "execution_count": 93,
   "metadata": {},
   "outputs": [
    {
     "data": {
      "image/png": "[encoded data removed]",
      "text/plain": [
       "<Figure size 1300x800 with 1 Axes>"
      ]
     },
     "metadata": {},
     "output_type": "display_data"
    }
   ],
   "source": [
    "# Ploting diagrams\n",
    "\n",
    "(ID, SN, i, j) = (SNs[6], IDs[17], 1, 1) \n",
    "\n",
    "diagram = diagrams[(ID, SN, i, j)]\n",
    "if diagram == None:\n",
    "    print(\"Empty diagram\")\n",
    "else:\n",
    "    plt.figure(figsize=(13, 8))\n",
    "    rips.plot(diagram, show=False)\n",
    "    plt.title(f\"Persistence diagram (id = {ID}, SN = {SN}, tile = X0{i}_Y0{j})\")\n",
    "    plt.legend(fontsize=5)\n",
    "    plt.show()"
   ]
  },
  {
   "attachments": {
    "image-3.png": {
     "image/png": "[encoded data removed]"
    },
    "image.png": {
     "image/png": "[encoded data removed]"
    }
   },
   "cell_type": "markdown",
   "metadata": {},
   "source": [
    "\n",
    "## Comparaison of data visualisation and persistence diagram\n",
    "We can see that in many cases in don't have many structure in our data so the persistence diagram doesn't seems to reveal much but we can notice for example this sample in each we can see a structure which is detected in the persistence diagram since we have a few point of high persistence\n",
    "\n",
    "![image.png](attachment:image-3.png) ![image.png](attachment:image.png)"
   ]
  },
  {
   "attachments": {},
   "cell_type": "markdown",
   "metadata": {},
   "source": [
    "# Computing persistence images"
   ]
  },
  {
   "cell_type": "code",
   "execution_count": 94,
   "metadata": {},
   "outputs": [],
   "source": [
    "pimgr = PersistenceImager(pixel_size=1)\n",
    "pimgr.kernel_params = {'sigma': np.array([[1, 0],[0, 6]])}"
   ]
  },
  {
   "cell_type": "code",
   "execution_count": 103,
   "metadata": {},
   "outputs": [],
   "source": [
    "# Computing persistence images\n",
    "\n",
    "images = {}\n",
    "\n",
    "# Attempt to fit all the images to the same size. I dont know if it's important that all images have the same images\n",
    "# diagrams_array = list(diagrams.values())\n",
    "# diagrams_array = [diagram for diagram in diagrams_array if (diagram is not None)]\n",
    "# diagrams_h1_array = [diagram[1] for diagram in diagrams_array if (np.any(diagram[1]))]\n",
    "# pimgr.fit(diagrams_h1_array)\n",
    "\n",
    "for SN in SNs: # each sample\n",
    "    for ID in IDs: \n",
    "        for i in range(1, 8):\n",
    "                for j in range(1, 10):\n",
    "                    if diagrams[(SN, ID, i, j)] == None:\n",
    "                        images[(SN, ID, i, j)] = None\n",
    "                    else:\n",
    "                        diagram = diagrams[(SN, ID, i, j)]\n",
    "                        diagram_h1 = diagram[1]\n",
    "                        if np.any(diagram_h1):\n",
    "                            # pimgr.fit(diagram_h1)\n",
    "                            image = pimgr.transform(diagram_h1, skew=True)\n",
    "                            images[(SN, ID, i, j)] = image\n",
    "                        else:\n",
    "                            images[(SN, ID, i, j)] = None\n"
   ]
  },
  {
   "cell_type": "code",
   "execution_count": 106,
   "metadata": {},
   "outputs": [
    {
     "name": "stdout",
     "output_type": "stream",
     "text": [
      "Empty diagram\n"
     ]
    }
   ],
   "source": [
    "# Ploting persistence images\n",
    "\n",
    "(ID, SN, i, j) = (SNs[6], IDs[17], 1, 3) \n",
    "\n",
    "image = images[(ID, SN, i, j)]\n",
    "if image is None or not np.any(images[(SN, ID, i, j)]):\n",
    "    print(\"Empty diagram\")\n",
    "else:\n",
    "    plt.figure(figsize=(13, 8))\n",
    "    pimgr.plot_image(image)\n",
    "    plt.title(f\"Persistence image (id = {ID}, SN = {SN}, tile = X0{i}_Y0{j})\")\n",
    "    plt.show()"
   ]
  },
  {
   "cell_type": "code",
   "execution_count": 97,
   "metadata": {},
   "outputs": [],
   "source": [
    "# diagrams_array = list(diagrams.values())\n",
    "# diagrams_array = [diagram for diagram in diagrams_array if (diagram is not None)]\n",
    "# diagrams_h1_array = [diagram[1] for diagram in diagrams_array if (np.any(diagram[1]))]\n",
    "# pimgr.fit(diagrams_h1_array)\n",
    "# imgs = pimgr.transform(diagrams_h1_array)\n",
    "# plt.figure(figsize=(13, 8))\n",
    "# pimgr.plot_image(imgs[8])\n",
    "# plt.show()"
   ]
  },
  {
   "attachments": {},
   "cell_type": "markdown",
   "metadata": {},
   "source": [
    "# Trying classification"
   ]
  },
  {
   "cell_type": "code",
   "execution_count": 98,
   "metadata": {},
   "outputs": [],
   "source": [
    "# We build our test/train data set\n",
    "\n",
    "# SNs is ['MRL-6', 'BALBc-1', 'MRL-8', 'MRL-4', 'MRL-5', 'BALBc-3', 'MRL-9', 'BALBc-2', 'MRL-7']\n",
    "SNs_MRL = ['MRL-6', 'MRL-8', 'MRL-4', 'MRL-5', 'MRL-9', 'MRL-7']\n",
    "# SNs_BALBc = ['BALBc-1', 'BALBc-2', 'BALBc-3']\n",
    "\n",
    "images_mrl = []\n",
    "images_balbc = []\n",
    "\n",
    "for SN in SNs:\n",
    "    for ID in IDs:\n",
    "        for i in range(1, 8):\n",
    "            for j in range(1, 10):\n",
    "                if images[(SN, ID, i, j)] is not None and np.any(images[(SN, ID, i, j)]):\n",
    "                    if SN in SNs_MRL:\n",
    "                        images_mrl.append(images[(SN, ID, i, j)])\n",
    "                    else:\n",
    "                        images_balbc.append(images[(SN, ID, i, j)])\n",
    "\n",
    "\n",
    "\n",
    "# Define labels (0 normal spleen, 1 disease)\n",
    "labels = np.zeros(len(images_balbc) + len(images_mrl))\n",
    "labels[len(images_mrl):] = 1\n",
    "images_array = np.array([image.flatten() for image in images_balbc] + [image.flatten() for image in images_mrl])\n",
    "\n",
    "X_train, X_test, y_train, y_test = train_test_split(images_array, labels, test_size=0.40, random_state=42)"
   ]
  },
  {
   "cell_type": "code",
   "execution_count": 99,
   "metadata": {},
   "outputs": [
    {
     "data": {
      "text/plain": [
       "0.7102803738317757"
      ]
     },
     "execution_count": 99,
     "metadata": {},
     "output_type": "execute_result"
    }
   ],
   "source": [
    "# Try classification \n",
    "\n",
    "lr = LogisticRegression()\n",
    "lr.fit(X_train, y_train)\n",
    "lr.score(X_test, y_test)"
   ]
  },
  {
   "cell_type": "code",
   "execution_count": 100,
   "metadata": {},
   "outputs": [
    {
     "data": {
      "text/plain": [
       "<AxesSubplot: xlabel='birth', ylabel='persistence'>"
      ]
     },
     "execution_count": 100,
     "metadata": {},
     "output_type": "execute_result"
    },
    {
     "data": {
      "image/png": "[encoded data removed]",
      "text/plain": [
       "<Figure size 640x480 with 1 Axes>"
      ]
     },
     "metadata": {},
     "output_type": "display_data"
    }
   ],
   "source": [
    "inverse_image = np.copy(lr.coef_).reshape(pimgr.resolution)\n",
    "pimgr.plot_image(inverse_image)"
   ]
  },
  {
   "attachments": {},
   "cell_type": "markdown",
   "metadata": {},
   "source": [
    "# Draft "
   ]
  },
  {
   "cell_type": "code",
   "execution_count": 101,
   "metadata": {},
   "outputs": [],
   "source": [
    "# # Stiched computation (too expensive)\n",
    "\n",
    "# plotting = False\n",
    "# # To plot nicely\n",
    "# if plotting:\n",
    "#     plt.figure(figsize=(19, 15))\n",
    "\n",
    "# global_analysis = False\n",
    "\n",
    "# side = int(np.ceil(np.sqrt(len(IDs) * len(SNs))))\n",
    "\n",
    "# # To Compute Persistence Diagram\n",
    "# rips = Rips(maxdim=1)\n",
    "\n",
    "# # To stich data \n",
    "# xtilespan = 1344\n",
    "# ytilespan = 1008\n",
    "\n",
    "# # For each sample and each cell type we stich the tiles together\n",
    "\n",
    "# # To store persistence diagram\n",
    "# diagrams_stiched = {}\n",
    "\n",
    "# index = 1\n",
    "# for SN in SNs: # each sample\n",
    "#     if global_analysis:\n",
    "#         x_tot = np.empty(0)\n",
    "#         y_tot = np.empty(0)\n",
    "#     for ID in IDs: # each cell type\n",
    "#         # get (x,y) coordinates\n",
    "#         # tile stiching\n",
    "#         cells = df_cells[(df_cells[\"Imaging phenotype cluster ID\"] == ID) & (df_cells[\"sample_Xtile_Ytile\"].str.split(pat=\"_\").str[0] == SN)]\n",
    "#         if not cells.empty:\n",
    "#             x = np.empty(0)\n",
    "#             y = np.empty(0)\n",
    "#             for i in range(1, 8):\n",
    "#                 for j in range(1, 10):\n",
    "#                     # xy_cells = df_cells[(df_cells[\"sample_Xtile_Ytile\"].str.split(pat=\"_\").str[0] == SN) & (df_cells[\"Imaging phenotype cluster ID\"] == ID) & (df_cells[\"sample_Xtile_Ytile\"].str.split(pat=\"_\").str[1] == \"X0\"+str(i)) & (df_cells[\"sample_Xtile_Ytile\"].str.split(pat=\"_\").str[2] == \"Y0\"+str(j))]\n",
    "#                     xy_cells = cells[(cells[\"sample_Xtile_Ytile\"].str.split(pat=\"_\").str[1] == \"X0\"+str(i)) & (cells[\"sample_Xtile_Ytile\"].str.split(pat=\"_\").str[2] == \"Y0\"+str(j))]\n",
    "#                     x = np.append(x, xy_cells[\"X.X\"].values + xtilespan * (i - 1))\n",
    "#                     y = np.append(y, xy_cells[\"Y.Y\"].values + ytilespan * (j - 1))\n",
    "#             if plotting:\n",
    "#                 plt.subplot(side + 1, side, index)\n",
    "#                 plt.scatter(x, y, s=1)\n",
    "#                 plt.title(\"Data visualisation for stiched tiles (id = \" + str(ID)  + \", sn = \" + SN + \")\", fontsize = 10)\n",
    "#                 index += 1\n",
    "#             if global_analysis:\n",
    "#                 x_tot = np.append(x_tot, x)\n",
    "#                 y_tot = np.append(y_tot, y)\n",
    "        \n",
    "#             # Computation of Persistence Diagram (For each sample and each cell type)\n",
    "#             data = np.array((x,y)).T\n",
    "#             diagram = rips.fit_transform(data)\n",
    "#             diagrams_stiched[(SN, ID)] = diagram\n",
    "\n",
    "#             # print(f\"Just done id = {ID}, sn = {SN}\")\n",
    "\n",
    "\n",
    "#     if plotting and global_analysis:\n",
    "#         plt.subplot(side + 1, side, index)\n",
    "#         plt.scatter(x_tot, y_tot, s=1)\n",
    "#         plt.title(\"Data visualisation for stiched tiles (sn = \" + SN + \")\", fontsize = 10)   \n",
    "#         index += 1 \n",
    "#     # Computation of Persistence Diagram (For each sample and all cell type)   (Not enough computation power on local computer)    \n",
    "#     if global_analysis:\n",
    "#         data = np.array((x_tot,y_tot)).T\n",
    "#         diagram = rips.fit_transform(data)\n",
    "#         diagrams_stiched[SN] = diagram\n",
    "\n",
    "#     print \n",
    "\n",
    "# if plotting:\n",
    "#     plt.show()"
   ]
  }
 ],
 "metadata": {
  "kernelspec": {
   "display_name": "base",
   "language": "python",
   "name": "python3"
  },
  "language_info": {
   "codemirror_mode": {
    "name": "ipython",
    "version": 3
   },
   "file_extension": ".py",
   "mimetype": "text/x-python",
   "name": "python",
   "nbconvert_exporter": "python",
   "pygments_lexer": "ipython3",
   "version": "3.9.13"
  },
  "orig_nbformat": 4,
  "vscode": {
   "interpreter": {
    "hash": "7d31d42181fe57a6b4dfc688638ba47c88808a294090d1ddb4357c4526b09104"
   }
  }
 },
 "nbformat": 4,
 "nbformat_minor": 2
}
